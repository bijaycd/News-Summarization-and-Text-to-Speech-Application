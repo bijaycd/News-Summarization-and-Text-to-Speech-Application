{
 "cells": [
  {
   "cell_type": "code",
   "execution_count": 2,
   "metadata": {},
   "outputs": [],
   "source": [
    "import requests\n",
    "from bs4 import BeautifulSoup"
   ]
  },
  {
   "cell_type": "code",
   "execution_count": null,
   "metadata": {},
   "outputs": [
    {
     "name": "stdout",
     "output_type": "stream",
     "text": [
      "1. Nvidia-backed CoreWeave targets up to $32 billion valuation in test for AI IPOs\n",
      "   Summary: Meanwhile, ahead of the IPO, CoreWeave had tied up with some of the biggest AI heavyweights, including Sam Altman's OpenAI. Last week, the company signed an $11.9 billion infrastructure contract with the ChatGPT maker. Nvidia currently owns 5.96% of CoreWeave's Class A shares, which is expected to be reduced to 5.05% after the offering.\n",
      "\n",
      "2. Nvidia to open quantum computing lab, CEO says\n",
      "   Summary: The Nvidia Accelerated Quantum Research Center, which Nvidia is calling NVAQC for short, will work with quantum firms including Quantinuum, Quantum Machines and QuEra Computing. Nvidia said the center will begin operating later this year.\n",
      "\n",
      "3. Tata Communications likely to continue with over $200 million capex in FY26\n",
      "   Summary: Tata Communications is expected to invest over USD 200 million in FY26, aligning with its consistent annual investments of USD 200-300 million. Key investments include subsea cables and cloud services, with the newly launched Vayu solution offering significant cost savings. The company emphasizes integrated offerings to enhance efficiency and accelerate AI adoption through Nvidia GPUs.\n",
      "\n",
      "4. Nvidia CEO: Humanoid robot revolution is closer than you think\n",
      "   Summary: The manufacturing industry would likely adopt humanoid robots first because that industry has well-defined tasks that robots can handle in a controlled environment, Nvidia CEO Jensen Huang said. \"I think it ought to go to factories first. And the reason for that is because the domain is much more guard-railed, and the use case is much more specific,\" Huang said.\n",
      "\n",
      "5. Nvidia to invest billions in US chip production over four years: Report\n",
      "   Summary: The artificial intelligence chip giant expects to spend around half-a-trillion dollars on electronics during the four-year period, according to the report.\n",
      "\n",
      "6. Wipro shares surge 3% after launch of Agentic AI services to boost sovereignty and innovation\n",
      "   Summary: Wipro share price: Wipro's shares rose by 3% after launching Agentic AI services to help nations develop AI capabilities while retaining data sovereignty. Utilizing NVIDIA AI Enterprise software, the services will support public sector transformation with custom large language models and responsible AI accelerators.\n",
      "\n",
      "7. Nvidia CEO says company has not been asked to buy a stake in Intel\n",
      "   Summary: \"Nobody's invited us to a consortium,\" Huang said. \"Nobody invited me. Maybe other people are involved, but I don't know. There might be a party. I wasn't invited.\" As per media report earlier this month reported that TSMC had approached Nvidia, Broadcom and Advanced Micro Devices about taking stakes in a joint venture that would operate Intel's factories.\n",
      "\n",
      "8. U.S. stock market today: Markets rise – Nasdaq, Dow Jones, S&P 500 gain as Tesla, Nvidia climb; Fed decision looms, Bond yields steady – Here's what investors should watch?\n",
      "   Summary: U.S. stock market rose as investors awaited the Federal Reserve’s interest rate decision. The S&P 500 gained 0.7%, the Dow Jones climbed 236 points, and the Nasdaq Composite advanced 1%. The Fed is expected to maintain current rates but may hint at future cuts. Investors are also watching economic projections, inflation trends, and global trade tensions. Meanwhile, Tesla and Nvidia stocks saw gains, while General Mills struggled. The bond market reacted with slight movement in yields. Market volatility remains high as traders anticipate policy shifts and economic indicators.\n",
      "\n",
      "9. Nvidia join hands with Disney Research, Google DeepMind to create physics engine, Newton\n",
      "   Summary: Newton is designed to simulate robotic movements in real-world environments. An early, open-source version of Newton is planned for release later in 2025.\n",
      "\n",
      "10. Wipro, Tech Mahindra, L&T Tech Services partner with Nvidia\n",
      "   Summary: Tech Mahindra has unveiled an autonomous pharmacovigilance (PV) solution powered by Nvidia AI software to enhance drug safety management.\n",
      "\n",
      "11. Humanoid robots to roam around in five years - Nvidia CEO Jensen Huang signals AI revolution\n",
      "   Summary: Nvidia CEO Jensen Huang unveiled software tools that he said would help humanoid robots navigate the world more easily.\n",
      "\n",
      "12. Google, Nvidia partner to apply AI in robotics, drug discovery and energy grids\n",
      "   Summary: Google Cloud will also be among the first to adopt Nvidia’s GB300 NVL72 and RTX PRO 6000 Blackwell Server Edition GPUs. Additionally, Nvidia will adopt SynthID, a digital watermarking tool from Google DeepMind that embeds invisible markers in AI-generated images, audio, text and video. Nvidia will be the first industry partner to implement the tool.\n",
      "\n",
      "13. Nvidia CEO says power-saving optical chip tech will need to wait for wider use\n",
      "   Summary: During a keynote address to Nvidia's annual developer conference at a packed hockey stadium in San Jose, California on Tuesday, Huang said his company would use the co-packaged optical technology in two new networking chips that sit in switches on top of its servers, saying the technology would make the chips three and a half times more energy efficient than their predecessors.\n",
      "\n",
      "14. Nvidia showcases new tech at AI 'Super Bowl'\n",
      "   Summary: Jensen Huang used the annual speech to unveil developments and tie-ups at the company he co-founded more than three decades ago. Nvidia has seen stratospheric growth, with the AI frenzy stemming largely from the company's core product: graphics processing units (GPUs).\n",
      "\n",
      "15. Nvidia GTC: Stock over 2% down amid General Motors partnership, new AI chip announcements\n",
      "   Summary: Nvidia CEO Jensen Huang announced the company’s latest AI innovations and upcoming chip developments during his keynote address at the GTC. The company is set to partner with General Motors for self-driving technology. However, shares of the company fell over 2 per cent post the address.\n",
      "\n",
      "16. US stock market today: Market sinks – Nasdaq, Dow Jones, S&P 500 tumble as Nvidia slides, Fed decision nears, Treasury yields surge – What’s next for investors?\n",
      "   Summary: US stock market fell on Tuesday as the Nasdaq dropped 1.9%, dragged down by tech giants like Nvidia and Tesla. The S&P 500 shed 1.2%, nearing correction territory, while the Dow lost 299 points. Investors are eyeing the Federal Reserve’s policy meeting for rate decisions. Meanwhile, rising Treasury yields, geopolitical tensions, and Nvidia’s AI conference added to market uncertainty.\n",
      "\n",
      "17. Nvidia coming up with latest AI chip? Here's what to expect from CEO Jensen Huang\n",
      "   Summary: Nvidia's data center chips, which sell for tens of thousands of dollars each, that accounted for the bulk of its $130.5 billion in sales last year.\n",
      "\n",
      "18. Google may collaborate with MediaTek on its upcoming AI chip. What we know so far\n",
      "   Summary: Google is partnering with MediaTek to develop cost-effective AI chips, aiming for a release next year. Meanwhile, Google is also in discussions with Apple to introduce Rich Communication Services messaging in India, potentially revolutionizing business communications beyond traditional SMS while leveraging existing telecommunication partnerships.\n",
      "\n",
      "19. Quantum computing, AI stocks rise as Nvidia kicks off annual conference\n",
      "   Summary: The five-day GTC AI conference, which was already underway, will devote an entire day to quantum computing and feature executives from notable firms including D-Wave Quantum and Rigetti Computing. Several quantum computing stocks jumped, with D-Wave Quantum up 9.4%, while Quantum Corp and Quantum Computing gained 23.1%, and 15.5%, respectively.\n",
      "\n",
      "20. Nvidia showcases AI chips as it shrugs off DeepSeek\n",
      "   Summary: The AI boom propelled Nvidia stock prices to stratospheric levels until a steep sell-off early this year triggered by the sudden success of DeepSeek.The stock, one of the most traded on Wall Street, is down more than nine percent this year despite a recent rebound from a March low.\n",
      "\n",
      "21. Nvidia poised to shake up AI again with new chip unveiling at GTC by Jensen Huang; here’s what to expect from the tech giant’s game-changing innovations\n",
      "   Summary: Nvidia GTC 2025 is set to unveil game-changing innovations in AI, quantum computing, and robotics. The highlight of the event is the Blackwell Ultra GB300 AI chip, designed to revolutionize AI reasoning models. Nvidia is also hosting its first Quantum Day, featuring discussions from D-Wave and Rigetti. The company’s advancements in autonomous AI and robotics are expected to reshape industries. With over 80 AI training sessions and free certifications, the conference is a must-attend for tech professionals. Analysts predict Nvidia’s announcements could drive long-term stock growth, making GTC 2025 a pivotal moment for the AI industry.\n",
      "\n",
      "22. Intel's new CEO plots overhaul of manufacturing and AI operations\n",
      "   Summary: The new plan involves changing the company's approach to AI and reducing staff to address what incoming CEO Lip-Bu Tan sees as a slow and oversized middle management. One of his main priorities is to improve the company's manufacturing operations, which, once focused solely on making chips for Intel, are now being used to produce semiconductors for other clients like Nvidia.\n",
      "\n",
      "23. Samsung needs 'do-or-die' mindset to survive AI challenges: Report\n",
      "   Summary: The world's largest memory-chip maker already acknowledged in October that it was facing a \"crisis\", and admitted questions had arisen about its \"fundamental technological competitiveness and the future of the company\". \"Samsung is facing a do-or-die survival issue. We need to reflect deeply from the top,\" chairman Lee Jae-yong was quoted as saying during a training for top executives, Yonhap reported.\n",
      "\n",
      "24. Massive market bloodbath: U.S. stock market sheds a staggering $5 trillion in just 3 weeks amid mounting uncertainty, here's what's fueling the Wall Street wipeout\n",
      "   Summary: U.S. stock market is facing a severe downturn, shedding $5 trillion in just three weeks as uncertainty grips Wall Street. The S&P 500 has plunged 10% from its peak, with losses fueled by trade war tensions, slowing economic growth, and a sharp decline in AI-related stocks like Nvidia. Analysts warn that erratic policies and a shift in investor sentiment are accelerating the selloff. With the market still trading at historically high valuations, concerns about a deeper correction remain. Investors are now closely watching economic indicators and corporate earnings for signs of stability.\n",
      "\n",
      "25. Nvidia GTC 2025: Date, venue, place, and how to watch keynote speech of CEO Jensen Huang; will there be big bang announcements?\n",
      "   Summary: The awaited Nvidia GTC 2025 is round the corner and it is now time to watch the keynote address of CEO Jensen Huang that promises to bring in further announcements about the world of AI. Will DeepSeek have an impact on his speech at all?\n",
      "\n",
      "26. Celestial AI raises $250 million as it looks to speed up links between AI chips\n",
      "   Summary: Celestial AI is tapping photonics - a technology that uses light, rather than electrical signals - to create speedy links between AI computing chips and memory chips.\n",
      "\n",
      "27. US stock market today crashes but Elon Musk's Tesla, Nvidia share prices soar. Here's why\n",
      "   Summary: US stock market indexes -- S&P 500, Dow Jones, and Nasdaq composite -- today were witnessing flat trading. The only silver lining is the uptick in stock prices of Tesla and Nvidia.\n",
      "\n",
      "28. Nvidia stock down by 27% from its peak, here's what to expect next\n",
      "   Summary: Nvidia stock has come down by 27 percent from its peak a few months ago. This is said to be the lowest the AI chip maker has gone since September last year. In July 2024, a sell-off was seen over fears about slowing down of investment in AI infrastructure, which was due to big companies overspending on data centres as well as Nvidia chips, despite no meaningful returns.\n",
      "\n",
      "29. OpenAI, Oracle eye Nvidia chips worth billions for Stargate site\n",
      "   Summary: The site, in the small city of Abilene, is expected to house 64,000 of Nvidia’s coveted GB200 semiconductors by the end of 2026. The chips will be added to several halls of the data center in phases, with an initial rollout of 16,000 set to be completed by this summer.\n",
      "\n"
     ]
    }
   ],
   "source": [
    "# Function to scrape Economic Times articles (Title & Summary only)\n",
    "def scrape_economic_times(topic):\n",
    "    url = f\"https://economictimes.indiatimes.com/topic/{topic}\"\n",
    "    headers = {\"User-Agent\": \"Mozilla/5.0\"}\n",
    "\n",
    "    response = requests.get(url, headers=headers)\n",
    "    if response.status_code != 200:\n",
    "        print(f\"Failed to retrieve page. Status Code: {response.status_code}\")\n",
    "        return []\n",
    "\n",
    "    soup = BeautifulSoup(response.text, \"html.parser\")\n",
    "\n",
    "    articles = []\n",
    "    article_blocks = soup.find_all(\"div\", class_=\"clr flt topicstry story_list\")  # Find all articles\n",
    "\n",
    "    for article in article_blocks:\n",
    "        title_tag = article.find(\"a\", class_=\"wrapLines l2\")\n",
    "        summary_tag = article.find(\"p\", class_=\"wrapLines l3\")\n",
    "\n",
    "        title = title_tag.text.strip() if title_tag else \"Title not found\"\n",
    "        summary = summary_tag.text.strip() if summary_tag else \"Summary not found\"\n",
    "\n",
    "        articles.append({\"title\": title, \"summary\": summary})\n",
    "\n",
    "    return articles"
   ]
  },
  {
   "cell_type": "code",
   "execution_count": null,
   "metadata": {},
   "outputs": [],
   "source": [
    "# Example Usage\n",
    "topic = \"nvidia\"\n",
    "news_articles = scrape_economic_times(topic)\n",
    "\n",
    "# Print Results\n",
    "for idx, article in enumerate(news_articles, 1):\n",
    "    print(f\"{idx}. {article['title']}\\n   Summary: {article['summary']}\\n\")"
   ]
  },
  {
   "cell_type": "code",
   "execution_count": 5,
   "metadata": {},
   "outputs": [
    {
     "name": "stdout",
     "output_type": "stream",
     "text": [
      "Numpy Version: 2.2.4\n",
      "Python Version: 3.10.0 | packaged by conda-forge | (default, Nov 20 2021, 02:18:13) [MSC v.1916 64 bit (AMD64)]\n",
      "Torch Version: 2.6.0+cpu\n",
      "Transformer Version: 4.49.0\n"
     ]
    }
   ],
   "source": [
    "import numpy\n",
    "import sys\n",
    "import torch\n",
    "import transformers\n",
    "print(\"Numpy Version:\", numpy.__version__)  \n",
    "print(\"Python Version:\", sys.version)\n",
    "print(\"Torch Version:\", torch.__version__)  \n",
    "print(\"Transformer Version:\", transformers.__version__)\n"
   ]
  },
  {
   "cell_type": "code",
   "execution_count": 1,
   "metadata": {},
   "outputs": [],
   "source": [
    "import io\n",
    "from gtts import gTTS\n",
    "from deep_translator import GoogleTranslator"
   ]
  },
  {
   "cell_type": "code",
   "execution_count": 2,
   "metadata": {},
   "outputs": [],
   "source": [
    "def generate_hindi_speech(text):\n",
    "\n",
    "    hindi_text = GoogleTranslator(source=\"auto\", target=\"hi\").translate(text)  # Translate to Hindi\n",
    "    tts = gTTS(hindi_text, lang=\"hi\")\n",
    "\n",
    "    # Store the speech in memory instead of a file\n",
    "    audio_buffer = io.BytesIO()\n",
    "    tts.write_to_fp(audio_buffer)\n",
    "    audio_buffer.seek(0)  # Move to start for playback\n",
    "\n",
    "    return audio_buffer"
   ]
  },
  {
   "cell_type": "code",
   "execution_count": 5,
   "metadata": {},
   "outputs": [],
   "source": [
    "audio_buffer = generate_hindi_speech(\"Hello, how are you?\")  # Example Usage"
   ]
  },
  {
   "cell_type": "code",
   "execution_count": 4,
   "metadata": {},
   "outputs": [],
   "source": [
    "from fastapi.responses import StreamingResponse"
   ]
  },
  {
   "cell_type": "code",
   "execution_count": 6,
   "metadata": {},
   "outputs": [
    {
     "data": {
      "text/plain": [
       "<starlette.responses.StreamingResponse at 0x1edf9549b40>"
      ]
     },
     "execution_count": 6,
     "metadata": {},
     "output_type": "execute_result"
    }
   ],
   "source": [
    "StreamingResponse(audio_buffer, media_type=\"audio/mpeg\", headers={\n",
    "        \"Content-Disposition\": \"attachment; filename=hindi_summary.mp3\"\n",
    "    })"
   ]
  },
  {
   "cell_type": "code",
   "execution_count": 7,
   "metadata": {},
   "outputs": [
    {
     "name": "stdout",
     "output_type": "stream",
     "text": [
      "✅ Audio file generated successfully. Play 'test_audio.mp3' manually.\n",
      "🔉 Playing the audio file...\n"
     ]
    }
   ],
   "source": [
    "from gtts import gTTS\n",
    "\n",
    "text = \"यह हिंदी भाषा में एक ऑडियो संदेश है।\"  # Hindi text\n",
    "tts = gTTS(text, lang=\"hi\")\n",
    "tts.save(\"test_audio.mp3\")  # ✅ Save the audio file\n",
    "\n",
    "print(\"✅ Audio file generated successfully. Play 'test_audio.mp3' manually.\")\n",
    "print(\"🔉 Playing the audio file...\")"
   ]
  },
  {
   "cell_type": "code",
   "execution_count": 8,
   "metadata": {},
   "outputs": [
    {
     "data": {
      "text/html": [
       "\n",
       "                <audio  controls=\"controls\" >\n",
       "                    <source src=\"data:audio/wav;base64,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\" type=\"audio/wav\" />\n",
       "                    Your browser does not support the audio element.\n",
       "                </audio>\n",
       "              "
      ],
      "text/plain": [
       "<IPython.lib.display.Audio object>"
      ]
     },
     "execution_count": 8,
     "metadata": {},
     "output_type": "execute_result"
    }
   ],
   "source": [
    "import io\n",
    "from gtts import gTTS\n",
    "from IPython.display import Audio\n",
    "\n",
    "def generate_hindi_speech(text):\n",
    "    \"\"\"Convert text to Hindi speech and store in memory.\"\"\"\n",
    "    tts = gTTS(text, lang=\"hi\")  # ✅ Generate speech\n",
    "    \n",
    "    audio_buffer = io.BytesIO()  # ✅ Create an in-memory buffer\n",
    "    tts.write_to_fp(audio_buffer)  # ✅ Write speech data to buffer\n",
    "    audio_buffer.seek(0)  # ✅ Reset buffer position for playback\n",
    "    \n",
    "    return audio_buffer  # ✅ Return the buffer\n",
    "\n",
    "# ✅ Generate and play audio\n",
    "text = \"यह हिंदी भाषा में एक ऑडियो संदेश है।\"\n",
    "audio_buffer = generate_hindi_speech(text)\n",
    "\n",
    "# ✅ Play the generated audio\n",
    "Audio(audio_buffer.getvalue(), rate=24000)  # Use IPython's Audio function"
   ]
  },
  {
   "cell_type": "code",
   "execution_count": 16,
   "metadata": {},
   "outputs": [],
   "source": [
    "import sys\n",
    "import os"
   ]
  },
  {
   "cell_type": "code",
   "execution_count": 17,
   "metadata": {},
   "outputs": [],
   "source": [
    "sys.path.append(os.path.abspath(\"../src\"))"
   ]
  },
  {
   "cell_type": "code",
   "execution_count": 20,
   "metadata": {},
   "outputs": [
    {
     "name": "stdout",
     "output_type": "stream",
     "text": [
      "Python Path: ['c:\\\\Projects\\\\News-Summarization-and-Text-to-Speech-Application\\\\tts\\\\python310.zip', 'c:\\\\Projects\\\\News-Summarization-and-Text-to-Speech-Application\\\\tts\\\\DLLs', 'c:\\\\Projects\\\\News-Summarization-and-Text-to-Speech-Application\\\\tts\\\\lib', 'c:\\\\Projects\\\\News-Summarization-and-Text-to-Speech-Application\\\\tts', '', 'C:\\\\Users\\\\BIJAY\\\\AppData\\\\Roaming\\\\Python\\\\Python310\\\\site-packages', 'c:\\\\Projects\\\\News-Summarization-and-Text-to-Speech-Application\\\\tts\\\\lib\\\\site-packages', 'c:\\\\Projects\\\\News-Summarization-and-Text-to-Speech-Application\\\\tts\\\\lib\\\\site-packages\\\\win32', 'c:\\\\Projects\\\\News-Summarization-and-Text-to-Speech-Application\\\\tts\\\\lib\\\\site-packages\\\\win32\\\\lib', 'c:\\\\Projects\\\\News-Summarization-and-Text-to-Speech-Application\\\\tts\\\\lib\\\\site-packages\\\\Pythonwin', 'c:\\\\Projects\\\\News-Summarization-and-Text-to-Speech-Application\\\\src', 'c:\\\\Projects\\\\News-Summarization-and-Text-to-Speech-Application\\\\research', 'c:\\\\Projects\\\\News-Summarization-and-Text-to-Speech-Application']\n"
     ]
    }
   ],
   "source": [
    "import sys\n",
    "import os\n",
    "\n",
    "# ✅ Get the parent directory (move out of \"research/\")\n",
    "project_root = os.path.abspath(os.path.join(os.getcwd(), \"..\"))\n",
    "\n",
    "# ✅ Add the project root to sys.path\n",
    "sys.path.append(project_root)\n",
    "\n",
    "# ✅ Verify that \"src\" is now in the path\n",
    "print(\"Python Path:\", sys.path)\n",
    "\n",
    "# ✅ Now you can import from \"src\"\n",
    "from src.utils import extract_news"
   ]
  },
  {
   "cell_type": "code",
   "execution_count": 21,
   "metadata": {},
   "outputs": [],
   "source": [
    "articles = extract_news('Amazon')[:10]"
   ]
  },
  {
   "cell_type": "code",
   "execution_count": 23,
   "metadata": {},
   "outputs": [],
   "source": [
    "from src.comparison import comparative_analysis"
   ]
  },
  {
   "cell_type": "code",
   "execution_count": 26,
   "metadata": {},
   "outputs": [],
   "source": [
    "GROQ_API_KEY = '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'"
   ]
  },
  {
   "cell_type": "code",
   "execution_count": 34,
   "metadata": {},
   "outputs": [
    {
     "ename": "BadRequestError",
     "evalue": "Error code: 400 - {'error': {'message': 'Organization has been restricted. Please reach out to support if you believe this was in error.', 'type': 'invalid_request_error', 'code': 'organization_restricted'}}",
     "output_type": "error",
     "traceback": [
      "\u001b[1;31m---------------------------------------------------------------------------\u001b[0m",
      "\u001b[1;31mBadRequestError\u001b[0m                           Traceback (most recent call last)",
      "Cell \u001b[1;32mIn[34], line 1\u001b[0m\n\u001b[1;32m----> 1\u001b[0m comparison_data \u001b[38;5;241m=\u001b[39m \u001b[43mcomparative_analysis\u001b[49m\u001b[43m(\u001b[49m\u001b[43marticles\u001b[49m\u001b[43m)\u001b[49m\n\u001b[0;32m      2\u001b[0m comparison_data\n",
      "File \u001b[1;32mc:\\Projects\\News-Summarization-and-Text-to-Speech-Application\\src\\comparison.py:41\u001b[0m, in \u001b[0;36mcomparative_analysis\u001b[1;34m(articles)\u001b[0m\n\u001b[0;32m     38\u001b[0m sentiment_summary \u001b[38;5;241m=\u001b[39m \u001b[38;5;124mf\u001b[39m\u001b[38;5;124m\"\u001b[39m\u001b[38;5;124mOverall sentiment is \u001b[39m\u001b[38;5;132;01m{\u001b[39;00moverall_sentiment\u001b[38;5;132;01m}\u001b[39;00m\u001b[38;5;124m (\u001b[39m\u001b[38;5;132;01m{\u001b[39;00mformatted_counts\u001b[38;5;241m.\u001b[39mget(\u001b[38;5;124m'\u001b[39m\u001b[38;5;124mNegative\u001b[39m\u001b[38;5;124m'\u001b[39m,\u001b[38;5;250m \u001b[39m\u001b[38;5;241m0\u001b[39m)\u001b[38;5;132;01m}\u001b[39;00m\u001b[38;5;124m Negative, \u001b[39m\u001b[38;5;132;01m{\u001b[39;00mformatted_counts\u001b[38;5;241m.\u001b[39mget(\u001b[38;5;124m'\u001b[39m\u001b[38;5;124mPositive\u001b[39m\u001b[38;5;124m'\u001b[39m,\u001b[38;5;250m \u001b[39m\u001b[38;5;241m0\u001b[39m)\u001b[38;5;132;01m}\u001b[39;00m\u001b[38;5;124m Positive).\u001b[39m\u001b[38;5;124m\"\u001b[39m\n\u001b[0;32m     40\u001b[0m \u001b[38;5;66;03m# ✅ LLM-Based Sentiment Summary\u001b[39;00m\n\u001b[1;32m---> 41\u001b[0m overall_summary \u001b[38;5;241m=\u001b[39m \u001b[43msummarize_overall_sentiment\u001b[49m\u001b[43m(\u001b[49m\u001b[43marticles\u001b[49m\u001b[43m)\u001b[49m\n\u001b[0;32m     43\u001b[0m \u001b[38;5;66;03m# ✅ Return the final comparative analysis\u001b[39;00m\n\u001b[0;32m     44\u001b[0m \u001b[38;5;28;01mreturn\u001b[39;00m {\n\u001b[0;32m     45\u001b[0m     \u001b[38;5;124m\"\u001b[39m\u001b[38;5;124mSentiment Analysis\u001b[39m\u001b[38;5;124m\"\u001b[39m: {\n\u001b[0;32m     46\u001b[0m         \u001b[38;5;124m\"\u001b[39m\u001b[38;5;124mSentiment Distribution\u001b[39m\u001b[38;5;124m\"\u001b[39m: formatted_counts,\n\u001b[1;32m   (...)\u001b[0m\n\u001b[0;32m     53\u001b[0m     \u001b[38;5;124m\"\u001b[39m\u001b[38;5;124mFinal Sentiment Analysis\u001b[39m\u001b[38;5;124m\"\u001b[39m: overall_summary  \u001b[38;5;66;03m# ✅ LLM-generated summary\u001b[39;00m\n\u001b[0;32m     54\u001b[0m }\n",
      "File \u001b[1;32mc:\\Projects\\News-Summarization-and-Text-to-Speech-Application\\src\\summarization.py:26\u001b[0m, in \u001b[0;36msummarize_overall_sentiment\u001b[1;34m(articles)\u001b[0m\n\u001b[0;32m     12\u001b[0m concatenated_text \u001b[38;5;241m=\u001b[39m \u001b[38;5;124m\"\u001b[39m\u001b[38;5;124m \u001b[39m\u001b[38;5;124m\"\u001b[39m\u001b[38;5;241m.\u001b[39mjoin(article[\u001b[38;5;124m\"\u001b[39m\u001b[38;5;124msummary\u001b[39m\u001b[38;5;124m\"\u001b[39m] \u001b[38;5;28;01mfor\u001b[39;00m article \u001b[38;5;129;01min\u001b[39;00m articles)\n\u001b[0;32m     14\u001b[0m prompt \u001b[38;5;241m=\u001b[39m \u001b[38;5;124mf\u001b[39m\u001b[38;5;124m\"\"\"\u001b[39m\n\u001b[0;32m     15\u001b[0m \u001b[38;5;124mYou are an AI language model designed for news sentiment summarization.\u001b[39m\n\u001b[0;32m     16\u001b[0m \u001b[38;5;124mAnalyze the following news articles and provide an **overall sentiment summary** (Positive, Negative, or Neutral) \u001b[39m\n\u001b[1;32m   (...)\u001b[0m\n\u001b[0;32m     23\u001b[0m \u001b[38;5;124m- **Explanation:** [Brief summary of why this sentiment was chosen]\u001b[39m\n\u001b[0;32m     24\u001b[0m \u001b[38;5;124m\u001b[39m\u001b[38;5;124m\"\"\"\u001b[39m\n\u001b[1;32m---> 26\u001b[0m response \u001b[38;5;241m=\u001b[39m \u001b[43mclient\u001b[49m\u001b[38;5;241;43m.\u001b[39;49m\u001b[43mchat\u001b[49m\u001b[38;5;241;43m.\u001b[39;49m\u001b[43mcompletions\u001b[49m\u001b[38;5;241;43m.\u001b[39;49m\u001b[43mcreate\u001b[49m\u001b[43m(\u001b[49m\n\u001b[0;32m     27\u001b[0m \u001b[43m    \u001b[49m\u001b[43mmodel\u001b[49m\u001b[38;5;241;43m=\u001b[39;49m\u001b[38;5;124;43m\"\u001b[39;49m\u001b[38;5;124;43mmistral-saba-24b\u001b[39;49m\u001b[38;5;124;43m\"\u001b[39;49m\u001b[43m,\u001b[49m\u001b[43m  \u001b[49m\u001b[38;5;66;43;03m# ✅ Use a powerful model from Groq\u001b[39;49;00m\n\u001b[0;32m     28\u001b[0m \u001b[43m    \u001b[49m\u001b[43mmessages\u001b[49m\u001b[38;5;241;43m=\u001b[39;49m\u001b[43m[\u001b[49m\u001b[43m{\u001b[49m\u001b[38;5;124;43m\"\u001b[39;49m\u001b[38;5;124;43mrole\u001b[39;49m\u001b[38;5;124;43m\"\u001b[39;49m\u001b[43m:\u001b[49m\u001b[43m \u001b[49m\u001b[38;5;124;43m\"\u001b[39;49m\u001b[38;5;124;43msystem\u001b[39;49m\u001b[38;5;124;43m\"\u001b[39;49m\u001b[43m,\u001b[49m\u001b[43m \u001b[49m\u001b[38;5;124;43m\"\u001b[39;49m\u001b[38;5;124;43mcontent\u001b[39;49m\u001b[38;5;124;43m\"\u001b[39;49m\u001b[43m:\u001b[49m\u001b[43m \u001b[49m\u001b[38;5;124;43m\"\u001b[39;49m\u001b[38;5;124;43mYou are a sentiment analysis assistant.\u001b[39;49m\u001b[38;5;124;43m\"\u001b[39;49m\u001b[43m}\u001b[49m\u001b[43m,\u001b[49m\n\u001b[0;32m     29\u001b[0m \u001b[43m              \u001b[49m\u001b[43m{\u001b[49m\u001b[38;5;124;43m\"\u001b[39;49m\u001b[38;5;124;43mrole\u001b[39;49m\u001b[38;5;124;43m\"\u001b[39;49m\u001b[43m:\u001b[49m\u001b[43m \u001b[49m\u001b[38;5;124;43m\"\u001b[39;49m\u001b[38;5;124;43muser\u001b[39;49m\u001b[38;5;124;43m\"\u001b[39;49m\u001b[43m,\u001b[49m\u001b[43m \u001b[49m\u001b[38;5;124;43m\"\u001b[39;49m\u001b[38;5;124;43mcontent\u001b[39;49m\u001b[38;5;124;43m\"\u001b[39;49m\u001b[43m:\u001b[49m\u001b[43m \u001b[49m\u001b[43mprompt\u001b[49m\u001b[43m}\u001b[49m\u001b[43m]\u001b[49m\u001b[43m,\u001b[49m\n\u001b[0;32m     30\u001b[0m \u001b[43m    \u001b[49m\u001b[43mmax_tokens\u001b[49m\u001b[38;5;241;43m=\u001b[39;49m\u001b[38;5;241;43m250\u001b[39;49m\n\u001b[0;32m     31\u001b[0m \u001b[43m\u001b[49m\u001b[43m)\u001b[49m\n\u001b[0;32m     33\u001b[0m \u001b[38;5;28;01mreturn\u001b[39;00m response\u001b[38;5;241m.\u001b[39mchoices[\u001b[38;5;241m0\u001b[39m]\u001b[38;5;241m.\u001b[39mmessage\u001b[38;5;241m.\u001b[39mcontent\u001b[38;5;241m.\u001b[39mstrip()\n",
      "File \u001b[1;32mc:\\Projects\\News-Summarization-and-Text-to-Speech-Application\\tts\\lib\\site-packages\\groq\\resources\\chat\\completions.py:322\u001b[0m, in \u001b[0;36mCompletions.create\u001b[1;34m(self, messages, model, frequency_penalty, function_call, functions, logit_bias, logprobs, max_completion_tokens, max_tokens, n, parallel_tool_calls, presence_penalty, reasoning_format, response_format, seed, service_tier, stop, stream, temperature, tool_choice, tools, top_logprobs, top_p, user, extra_headers, extra_query, extra_body, timeout)\u001b[0m\n\u001b[0;32m    166\u001b[0m \u001b[38;5;28;01mdef\u001b[39;00m \u001b[38;5;21mcreate\u001b[39m(\n\u001b[0;32m    167\u001b[0m     \u001b[38;5;28mself\u001b[39m,\n\u001b[0;32m    168\u001b[0m     \u001b[38;5;241m*\u001b[39m,\n\u001b[1;32m   (...)\u001b[0m\n\u001b[0;32m    198\u001b[0m     timeout: \u001b[38;5;28mfloat\u001b[39m \u001b[38;5;241m|\u001b[39m httpx\u001b[38;5;241m.\u001b[39mTimeout \u001b[38;5;241m|\u001b[39m \u001b[38;5;28;01mNone\u001b[39;00m \u001b[38;5;241m|\u001b[39m NotGiven \u001b[38;5;241m=\u001b[39m NOT_GIVEN,\n\u001b[0;32m    199\u001b[0m ) \u001b[38;5;241m-\u001b[39m\u001b[38;5;241m>\u001b[39m ChatCompletion \u001b[38;5;241m|\u001b[39m Stream[ChatCompletionChunk]:\n\u001b[0;32m    200\u001b[0m \u001b[38;5;250m    \u001b[39m\u001b[38;5;124;03m\"\"\"\u001b[39;00m\n\u001b[0;32m    201\u001b[0m \u001b[38;5;124;03m    Creates a model response for the given chat conversation.\u001b[39;00m\n\u001b[0;32m    202\u001b[0m \n\u001b[1;32m   (...)\u001b[0m\n\u001b[0;32m    320\u001b[0m \u001b[38;5;124;03m      timeout: Override the client-level default timeout for this request, in seconds\u001b[39;00m\n\u001b[0;32m    321\u001b[0m \u001b[38;5;124;03m    \"\"\"\u001b[39;00m\n\u001b[1;32m--> 322\u001b[0m     \u001b[38;5;28;01mreturn\u001b[39;00m \u001b[38;5;28;43mself\u001b[39;49m\u001b[38;5;241;43m.\u001b[39;49m\u001b[43m_post\u001b[49m\u001b[43m(\u001b[49m\n\u001b[0;32m    323\u001b[0m \u001b[43m        \u001b[49m\u001b[38;5;124;43m\"\u001b[39;49m\u001b[38;5;124;43m/openai/v1/chat/completions\u001b[39;49m\u001b[38;5;124;43m\"\u001b[39;49m\u001b[43m,\u001b[49m\n\u001b[0;32m    324\u001b[0m \u001b[43m        \u001b[49m\u001b[43mbody\u001b[49m\u001b[38;5;241;43m=\u001b[39;49m\u001b[43mmaybe_transform\u001b[49m\u001b[43m(\u001b[49m\n\u001b[0;32m    325\u001b[0m \u001b[43m            \u001b[49m\u001b[43m{\u001b[49m\n\u001b[0;32m    326\u001b[0m \u001b[43m                \u001b[49m\u001b[38;5;124;43m\"\u001b[39;49m\u001b[38;5;124;43mmessages\u001b[39;49m\u001b[38;5;124;43m\"\u001b[39;49m\u001b[43m:\u001b[49m\u001b[43m \u001b[49m\u001b[43mmessages\u001b[49m\u001b[43m,\u001b[49m\n\u001b[0;32m    327\u001b[0m \u001b[43m                \u001b[49m\u001b[38;5;124;43m\"\u001b[39;49m\u001b[38;5;124;43mmodel\u001b[39;49m\u001b[38;5;124;43m\"\u001b[39;49m\u001b[43m:\u001b[49m\u001b[43m \u001b[49m\u001b[43mmodel\u001b[49m\u001b[43m,\u001b[49m\n\u001b[0;32m    328\u001b[0m \u001b[43m                \u001b[49m\u001b[38;5;124;43m\"\u001b[39;49m\u001b[38;5;124;43mfrequency_penalty\u001b[39;49m\u001b[38;5;124;43m\"\u001b[39;49m\u001b[43m:\u001b[49m\u001b[43m \u001b[49m\u001b[43mfrequency_penalty\u001b[49m\u001b[43m,\u001b[49m\n\u001b[0;32m    329\u001b[0m \u001b[43m                \u001b[49m\u001b[38;5;124;43m\"\u001b[39;49m\u001b[38;5;124;43mfunction_call\u001b[39;49m\u001b[38;5;124;43m\"\u001b[39;49m\u001b[43m:\u001b[49m\u001b[43m \u001b[49m\u001b[43mfunction_call\u001b[49m\u001b[43m,\u001b[49m\n\u001b[0;32m    330\u001b[0m \u001b[43m                \u001b[49m\u001b[38;5;124;43m\"\u001b[39;49m\u001b[38;5;124;43mfunctions\u001b[39;49m\u001b[38;5;124;43m\"\u001b[39;49m\u001b[43m:\u001b[49m\u001b[43m \u001b[49m\u001b[43mfunctions\u001b[49m\u001b[43m,\u001b[49m\n\u001b[0;32m    331\u001b[0m \u001b[43m                \u001b[49m\u001b[38;5;124;43m\"\u001b[39;49m\u001b[38;5;124;43mlogit_bias\u001b[39;49m\u001b[38;5;124;43m\"\u001b[39;49m\u001b[43m:\u001b[49m\u001b[43m \u001b[49m\u001b[43mlogit_bias\u001b[49m\u001b[43m,\u001b[49m\n\u001b[0;32m    332\u001b[0m \u001b[43m                \u001b[49m\u001b[38;5;124;43m\"\u001b[39;49m\u001b[38;5;124;43mlogprobs\u001b[39;49m\u001b[38;5;124;43m\"\u001b[39;49m\u001b[43m:\u001b[49m\u001b[43m \u001b[49m\u001b[43mlogprobs\u001b[49m\u001b[43m,\u001b[49m\n\u001b[0;32m    333\u001b[0m \u001b[43m                \u001b[49m\u001b[38;5;124;43m\"\u001b[39;49m\u001b[38;5;124;43mmax_completion_tokens\u001b[39;49m\u001b[38;5;124;43m\"\u001b[39;49m\u001b[43m:\u001b[49m\u001b[43m \u001b[49m\u001b[43mmax_completion_tokens\u001b[49m\u001b[43m,\u001b[49m\n\u001b[0;32m    334\u001b[0m \u001b[43m                \u001b[49m\u001b[38;5;124;43m\"\u001b[39;49m\u001b[38;5;124;43mmax_tokens\u001b[39;49m\u001b[38;5;124;43m\"\u001b[39;49m\u001b[43m:\u001b[49m\u001b[43m \u001b[49m\u001b[43mmax_tokens\u001b[49m\u001b[43m,\u001b[49m\n\u001b[0;32m    335\u001b[0m \u001b[43m                \u001b[49m\u001b[38;5;124;43m\"\u001b[39;49m\u001b[38;5;124;43mn\u001b[39;49m\u001b[38;5;124;43m\"\u001b[39;49m\u001b[43m:\u001b[49m\u001b[43m \u001b[49m\u001b[43mn\u001b[49m\u001b[43m,\u001b[49m\n\u001b[0;32m    336\u001b[0m \u001b[43m                \u001b[49m\u001b[38;5;124;43m\"\u001b[39;49m\u001b[38;5;124;43mparallel_tool_calls\u001b[39;49m\u001b[38;5;124;43m\"\u001b[39;49m\u001b[43m:\u001b[49m\u001b[43m \u001b[49m\u001b[43mparallel_tool_calls\u001b[49m\u001b[43m,\u001b[49m\n\u001b[0;32m    337\u001b[0m \u001b[43m                \u001b[49m\u001b[38;5;124;43m\"\u001b[39;49m\u001b[38;5;124;43mpresence_penalty\u001b[39;49m\u001b[38;5;124;43m\"\u001b[39;49m\u001b[43m:\u001b[49m\u001b[43m \u001b[49m\u001b[43mpresence_penalty\u001b[49m\u001b[43m,\u001b[49m\n\u001b[0;32m    338\u001b[0m \u001b[43m                \u001b[49m\u001b[38;5;124;43m\"\u001b[39;49m\u001b[38;5;124;43mreasoning_format\u001b[39;49m\u001b[38;5;124;43m\"\u001b[39;49m\u001b[43m:\u001b[49m\u001b[43m \u001b[49m\u001b[43mreasoning_format\u001b[49m\u001b[43m,\u001b[49m\n\u001b[0;32m    339\u001b[0m \u001b[43m                \u001b[49m\u001b[38;5;124;43m\"\u001b[39;49m\u001b[38;5;124;43mresponse_format\u001b[39;49m\u001b[38;5;124;43m\"\u001b[39;49m\u001b[43m:\u001b[49m\u001b[43m \u001b[49m\u001b[43mresponse_format\u001b[49m\u001b[43m,\u001b[49m\n\u001b[0;32m    340\u001b[0m \u001b[43m                \u001b[49m\u001b[38;5;124;43m\"\u001b[39;49m\u001b[38;5;124;43mseed\u001b[39;49m\u001b[38;5;124;43m\"\u001b[39;49m\u001b[43m:\u001b[49m\u001b[43m \u001b[49m\u001b[43mseed\u001b[49m\u001b[43m,\u001b[49m\n\u001b[0;32m    341\u001b[0m \u001b[43m                \u001b[49m\u001b[38;5;124;43m\"\u001b[39;49m\u001b[38;5;124;43mservice_tier\u001b[39;49m\u001b[38;5;124;43m\"\u001b[39;49m\u001b[43m:\u001b[49m\u001b[43m \u001b[49m\u001b[43mservice_tier\u001b[49m\u001b[43m,\u001b[49m\n\u001b[0;32m    342\u001b[0m \u001b[43m                \u001b[49m\u001b[38;5;124;43m\"\u001b[39;49m\u001b[38;5;124;43mstop\u001b[39;49m\u001b[38;5;124;43m\"\u001b[39;49m\u001b[43m:\u001b[49m\u001b[43m \u001b[49m\u001b[43mstop\u001b[49m\u001b[43m,\u001b[49m\n\u001b[0;32m    343\u001b[0m \u001b[43m                \u001b[49m\u001b[38;5;124;43m\"\u001b[39;49m\u001b[38;5;124;43mstream\u001b[39;49m\u001b[38;5;124;43m\"\u001b[39;49m\u001b[43m:\u001b[49m\u001b[43m \u001b[49m\u001b[43mstream\u001b[49m\u001b[43m,\u001b[49m\n\u001b[0;32m    344\u001b[0m \u001b[43m                \u001b[49m\u001b[38;5;124;43m\"\u001b[39;49m\u001b[38;5;124;43mtemperature\u001b[39;49m\u001b[38;5;124;43m\"\u001b[39;49m\u001b[43m:\u001b[49m\u001b[43m \u001b[49m\u001b[43mtemperature\u001b[49m\u001b[43m,\u001b[49m\n\u001b[0;32m    345\u001b[0m \u001b[43m                \u001b[49m\u001b[38;5;124;43m\"\u001b[39;49m\u001b[38;5;124;43mtool_choice\u001b[39;49m\u001b[38;5;124;43m\"\u001b[39;49m\u001b[43m:\u001b[49m\u001b[43m \u001b[49m\u001b[43mtool_choice\u001b[49m\u001b[43m,\u001b[49m\n\u001b[0;32m    346\u001b[0m \u001b[43m                \u001b[49m\u001b[38;5;124;43m\"\u001b[39;49m\u001b[38;5;124;43mtools\u001b[39;49m\u001b[38;5;124;43m\"\u001b[39;49m\u001b[43m:\u001b[49m\u001b[43m \u001b[49m\u001b[43mtools\u001b[49m\u001b[43m,\u001b[49m\n\u001b[0;32m    347\u001b[0m \u001b[43m                \u001b[49m\u001b[38;5;124;43m\"\u001b[39;49m\u001b[38;5;124;43mtop_logprobs\u001b[39;49m\u001b[38;5;124;43m\"\u001b[39;49m\u001b[43m:\u001b[49m\u001b[43m \u001b[49m\u001b[43mtop_logprobs\u001b[49m\u001b[43m,\u001b[49m\n\u001b[0;32m    348\u001b[0m \u001b[43m                \u001b[49m\u001b[38;5;124;43m\"\u001b[39;49m\u001b[38;5;124;43mtop_p\u001b[39;49m\u001b[38;5;124;43m\"\u001b[39;49m\u001b[43m:\u001b[49m\u001b[43m \u001b[49m\u001b[43mtop_p\u001b[49m\u001b[43m,\u001b[49m\n\u001b[0;32m    349\u001b[0m \u001b[43m                \u001b[49m\u001b[38;5;124;43m\"\u001b[39;49m\u001b[38;5;124;43muser\u001b[39;49m\u001b[38;5;124;43m\"\u001b[39;49m\u001b[43m:\u001b[49m\u001b[43m \u001b[49m\u001b[43muser\u001b[49m\u001b[43m,\u001b[49m\n\u001b[0;32m    350\u001b[0m \u001b[43m            \u001b[49m\u001b[43m}\u001b[49m\u001b[43m,\u001b[49m\n\u001b[0;32m    351\u001b[0m \u001b[43m            \u001b[49m\u001b[43mcompletion_create_params\u001b[49m\u001b[38;5;241;43m.\u001b[39;49m\u001b[43mCompletionCreateParams\u001b[49m\u001b[43m,\u001b[49m\n\u001b[0;32m    352\u001b[0m \u001b[43m        \u001b[49m\u001b[43m)\u001b[49m\u001b[43m,\u001b[49m\n\u001b[0;32m    353\u001b[0m \u001b[43m        \u001b[49m\u001b[43moptions\u001b[49m\u001b[38;5;241;43m=\u001b[39;49m\u001b[43mmake_request_options\u001b[49m\u001b[43m(\u001b[49m\n\u001b[0;32m    354\u001b[0m \u001b[43m            \u001b[49m\u001b[43mextra_headers\u001b[49m\u001b[38;5;241;43m=\u001b[39;49m\u001b[43mextra_headers\u001b[49m\u001b[43m,\u001b[49m\u001b[43m \u001b[49m\u001b[43mextra_query\u001b[49m\u001b[38;5;241;43m=\u001b[39;49m\u001b[43mextra_query\u001b[49m\u001b[43m,\u001b[49m\u001b[43m \u001b[49m\u001b[43mextra_body\u001b[49m\u001b[38;5;241;43m=\u001b[39;49m\u001b[43mextra_body\u001b[49m\u001b[43m,\u001b[49m\u001b[43m \u001b[49m\u001b[43mtimeout\u001b[49m\u001b[38;5;241;43m=\u001b[39;49m\u001b[43mtimeout\u001b[49m\n\u001b[0;32m    355\u001b[0m \u001b[43m        \u001b[49m\u001b[43m)\u001b[49m\u001b[43m,\u001b[49m\n\u001b[0;32m    356\u001b[0m \u001b[43m        \u001b[49m\u001b[43mcast_to\u001b[49m\u001b[38;5;241;43m=\u001b[39;49m\u001b[43mChatCompletion\u001b[49m\u001b[43m,\u001b[49m\n\u001b[0;32m    357\u001b[0m \u001b[43m        \u001b[49m\u001b[43mstream\u001b[49m\u001b[38;5;241;43m=\u001b[39;49m\u001b[43mstream\u001b[49m\u001b[43m \u001b[49m\u001b[38;5;129;43;01mor\u001b[39;49;00m\u001b[43m \u001b[49m\u001b[38;5;28;43;01mFalse\u001b[39;49;00m\u001b[43m,\u001b[49m\n\u001b[0;32m    358\u001b[0m \u001b[43m        \u001b[49m\u001b[43mstream_cls\u001b[49m\u001b[38;5;241;43m=\u001b[39;49m\u001b[43mStream\u001b[49m\u001b[43m[\u001b[49m\u001b[43mChatCompletionChunk\u001b[49m\u001b[43m]\u001b[49m\u001b[43m,\u001b[49m\n\u001b[0;32m    359\u001b[0m \u001b[43m    \u001b[49m\u001b[43m)\u001b[49m\n",
      "File \u001b[1;32mc:\\Projects\\News-Summarization-and-Text-to-Speech-Application\\tts\\lib\\site-packages\\groq\\_base_client.py:1225\u001b[0m, in \u001b[0;36mSyncAPIClient.post\u001b[1;34m(self, path, cast_to, body, options, files, stream, stream_cls)\u001b[0m\n\u001b[0;32m   1211\u001b[0m \u001b[38;5;28;01mdef\u001b[39;00m \u001b[38;5;21mpost\u001b[39m(\n\u001b[0;32m   1212\u001b[0m     \u001b[38;5;28mself\u001b[39m,\n\u001b[0;32m   1213\u001b[0m     path: \u001b[38;5;28mstr\u001b[39m,\n\u001b[1;32m   (...)\u001b[0m\n\u001b[0;32m   1220\u001b[0m     stream_cls: \u001b[38;5;28mtype\u001b[39m[_StreamT] \u001b[38;5;241m|\u001b[39m \u001b[38;5;28;01mNone\u001b[39;00m \u001b[38;5;241m=\u001b[39m \u001b[38;5;28;01mNone\u001b[39;00m,\n\u001b[0;32m   1221\u001b[0m ) \u001b[38;5;241m-\u001b[39m\u001b[38;5;241m>\u001b[39m ResponseT \u001b[38;5;241m|\u001b[39m _StreamT:\n\u001b[0;32m   1222\u001b[0m     opts \u001b[38;5;241m=\u001b[39m FinalRequestOptions\u001b[38;5;241m.\u001b[39mconstruct(\n\u001b[0;32m   1223\u001b[0m         method\u001b[38;5;241m=\u001b[39m\u001b[38;5;124m\"\u001b[39m\u001b[38;5;124mpost\u001b[39m\u001b[38;5;124m\"\u001b[39m, url\u001b[38;5;241m=\u001b[39mpath, json_data\u001b[38;5;241m=\u001b[39mbody, files\u001b[38;5;241m=\u001b[39mto_httpx_files(files), \u001b[38;5;241m*\u001b[39m\u001b[38;5;241m*\u001b[39moptions\n\u001b[0;32m   1224\u001b[0m     )\n\u001b[1;32m-> 1225\u001b[0m     \u001b[38;5;28;01mreturn\u001b[39;00m cast(ResponseT, \u001b[38;5;28;43mself\u001b[39;49m\u001b[38;5;241;43m.\u001b[39;49m\u001b[43mrequest\u001b[49m\u001b[43m(\u001b[49m\u001b[43mcast_to\u001b[49m\u001b[43m,\u001b[49m\u001b[43m \u001b[49m\u001b[43mopts\u001b[49m\u001b[43m,\u001b[49m\u001b[43m \u001b[49m\u001b[43mstream\u001b[49m\u001b[38;5;241;43m=\u001b[39;49m\u001b[43mstream\u001b[49m\u001b[43m,\u001b[49m\u001b[43m \u001b[49m\u001b[43mstream_cls\u001b[49m\u001b[38;5;241;43m=\u001b[39;49m\u001b[43mstream_cls\u001b[49m\u001b[43m)\u001b[49m)\n",
      "File \u001b[1;32mc:\\Projects\\News-Summarization-and-Text-to-Speech-Application\\tts\\lib\\site-packages\\groq\\_base_client.py:917\u001b[0m, in \u001b[0;36mSyncAPIClient.request\u001b[1;34m(self, cast_to, options, remaining_retries, stream, stream_cls)\u001b[0m\n\u001b[0;32m    914\u001b[0m \u001b[38;5;28;01melse\u001b[39;00m:\n\u001b[0;32m    915\u001b[0m     retries_taken \u001b[38;5;241m=\u001b[39m \u001b[38;5;241m0\u001b[39m\n\u001b[1;32m--> 917\u001b[0m \u001b[38;5;28;01mreturn\u001b[39;00m \u001b[38;5;28;43mself\u001b[39;49m\u001b[38;5;241;43m.\u001b[39;49m\u001b[43m_request\u001b[49m\u001b[43m(\u001b[49m\n\u001b[0;32m    918\u001b[0m \u001b[43m    \u001b[49m\u001b[43mcast_to\u001b[49m\u001b[38;5;241;43m=\u001b[39;49m\u001b[43mcast_to\u001b[49m\u001b[43m,\u001b[49m\n\u001b[0;32m    919\u001b[0m \u001b[43m    \u001b[49m\u001b[43moptions\u001b[49m\u001b[38;5;241;43m=\u001b[39;49m\u001b[43moptions\u001b[49m\u001b[43m,\u001b[49m\n\u001b[0;32m    920\u001b[0m \u001b[43m    \u001b[49m\u001b[43mstream\u001b[49m\u001b[38;5;241;43m=\u001b[39;49m\u001b[43mstream\u001b[49m\u001b[43m,\u001b[49m\n\u001b[0;32m    921\u001b[0m \u001b[43m    \u001b[49m\u001b[43mstream_cls\u001b[49m\u001b[38;5;241;43m=\u001b[39;49m\u001b[43mstream_cls\u001b[49m\u001b[43m,\u001b[49m\n\u001b[0;32m    922\u001b[0m \u001b[43m    \u001b[49m\u001b[43mretries_taken\u001b[49m\u001b[38;5;241;43m=\u001b[39;49m\u001b[43mretries_taken\u001b[49m\u001b[43m,\u001b[49m\n\u001b[0;32m    923\u001b[0m \u001b[43m\u001b[49m\u001b[43m)\u001b[49m\n",
      "File \u001b[1;32mc:\\Projects\\News-Summarization-and-Text-to-Speech-Application\\tts\\lib\\site-packages\\groq\\_base_client.py:1020\u001b[0m, in \u001b[0;36mSyncAPIClient._request\u001b[1;34m(self, cast_to, options, retries_taken, stream, stream_cls)\u001b[0m\n\u001b[0;32m   1017\u001b[0m         err\u001b[38;5;241m.\u001b[39mresponse\u001b[38;5;241m.\u001b[39mread()\n\u001b[0;32m   1019\u001b[0m     log\u001b[38;5;241m.\u001b[39mdebug(\u001b[38;5;124m\"\u001b[39m\u001b[38;5;124mRe-raising status error\u001b[39m\u001b[38;5;124m\"\u001b[39m)\n\u001b[1;32m-> 1020\u001b[0m     \u001b[38;5;28;01mraise\u001b[39;00m \u001b[38;5;28mself\u001b[39m\u001b[38;5;241m.\u001b[39m_make_status_error_from_response(err\u001b[38;5;241m.\u001b[39mresponse) \u001b[38;5;28;01mfrom\u001b[39;00m \u001b[38;5;28;01mNone\u001b[39;00m\n\u001b[0;32m   1022\u001b[0m \u001b[38;5;28;01mreturn\u001b[39;00m \u001b[38;5;28mself\u001b[39m\u001b[38;5;241m.\u001b[39m_process_response(\n\u001b[0;32m   1023\u001b[0m     cast_to\u001b[38;5;241m=\u001b[39mcast_to,\n\u001b[0;32m   1024\u001b[0m     options\u001b[38;5;241m=\u001b[39moptions,\n\u001b[1;32m   (...)\u001b[0m\n\u001b[0;32m   1028\u001b[0m     retries_taken\u001b[38;5;241m=\u001b[39mretries_taken,\n\u001b[0;32m   1029\u001b[0m )\n",
      "\u001b[1;31mBadRequestError\u001b[0m: Error code: 400 - {'error': {'message': 'Organization has been restricted. Please reach out to support if you believe this was in error.', 'type': 'invalid_request_error', 'code': 'organization_restricted'}}"
     ]
    }
   ],
   "source": [
    "comparison_data = comparative_analysis(articles)\n",
    "comparison_data"
   ]
  },
  {
   "cell_type": "code",
   "execution_count": null,
   "metadata": {},
   "outputs": [],
   "source": []
  }
 ],
 "metadata": {
  "kernelspec": {
   "display_name": "Python 3",
   "language": "python",
   "name": "python3"
  },
  "language_info": {
   "codemirror_mode": {
    "name": "ipython",
    "version": 3
   },
   "file_extension": ".py",
   "mimetype": "text/x-python",
   "name": "python",
   "nbconvert_exporter": "python",
   "pygments_lexer": "ipython3",
   "version": "3.10.0"
  }
 },
 "nbformat": 4,
 "nbformat_minor": 2
}

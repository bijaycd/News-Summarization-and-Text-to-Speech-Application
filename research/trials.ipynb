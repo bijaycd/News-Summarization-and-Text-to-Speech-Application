{
 "cells": [
  {
   "cell_type": "code",
   "execution_count": 35,
   "metadata": {},
   "outputs": [],
   "source": [
    "import requests\n",
    "from bs4 import BeautifulSoup"
   ]
  },
  {
   "cell_type": "markdown",
   "metadata": {},
   "source": [
    "## News Scraping from The Economic Times [https://economictimes.indiatimes.com/]"
   ]
  },
  {
   "cell_type": "code",
   "execution_count": 36,
   "metadata": {},
   "outputs": [],
   "source": [
    "# Function to scrape Economic Times articles (Title & Summary only)\n",
    "def scrape_economic_times(topic):\n",
    "    url = f\"https://economictimes.indiatimes.com/topic/{topic}\"\n",
    "    headers = {\"User-Agent\": \"Mozilla/5.0\"}\n",
    "\n",
    "    response = requests.get(url, headers=headers)\n",
    "    if response.status_code != 200:\n",
    "        print(f\"Failed to retrieve page. Status Code: {response.status_code}\")\n",
    "        return []\n",
    "\n",
    "    soup = BeautifulSoup(response.text, \"html.parser\")\n",
    "\n",
    "    articles = []\n",
    "    article_blocks = soup.find_all(\"div\", class_=\"clr flt topicstry story_list\")  # Find all articles\n",
    "\n",
    "    for article in article_blocks:\n",
    "        title_tag = article.find(\"a\", class_=\"wrapLines l2\")\n",
    "        summary_tag = article.find(\"p\", class_=\"wrapLines l3\")\n",
    "\n",
    "        title = title_tag.text.strip() if title_tag else \"Title not found\"\n",
    "        summary = summary_tag.text.strip() if summary_tag else \"Summary not found\"\n",
    "\n",
    "        articles.append({\"title\": title, \"summary\": summary})\n",
    "\n",
    "    return articles"
   ]
  },
  {
   "cell_type": "code",
   "execution_count": 37,
   "metadata": {},
   "outputs": [
    {
     "name": "stdout",
     "output_type": "stream",
     "text": [
      "1. Nvidia is silently making game changing moves. What will be impact?\n",
      "   Summary: Nvidia is planning to invest hundreds of billions of dollars in U.S.-made chips and electronics over the next four years.\n",
      "\n",
      "2. 'They have conquered every market': Nvidia CEO on why Trump is wrong about Huawei\n",
      "   Summary: Nvidia CEO Jensen Huang warns that the U.S. may be underestimating Huawei's growing influence in AI, despite sanctions restricting the company's access to American technology. He criticizes these measures as poorly executed. Meanwhile, Huang denies Nvidia's involvement in any potential Intel stake acquisition consortium, dismissing speculation about their participation.\n",
      "\n",
      "3. Why Indian IT must shift from Nvidia to Intel? Trip Chowdhry explains\n",
      "   Summary: The way I am saying, the tone of the industry has to be set when you know the environment is all about efficiency and tariffs and everything is just noise.\n",
      "\n",
      "4. Nvidia-backed CoreWeave targets up to $32 billion valuation in test for AI IPOs\n",
      "   Summary: Meanwhile, ahead of the IPO, CoreWeave had tied up with some of the biggest AI heavyweights, including Sam Altman's OpenAI. Last week, the company signed an $11.9 billion infrastructure contract with the ChatGPT maker. Nvidia currently owns 5.96% of CoreWeave's Class A shares, which is expected to be reduced to 5.05% after the offering.\n",
      "\n",
      "5. Nvidia to open quantum computing lab, CEO says\n",
      "   Summary: The Nvidia Accelerated Quantum Research Center, which Nvidia is calling NVAQC for short, will work with quantum firms including Quantinuum, Quantum Machines and QuEra Computing. Nvidia said the center will begin operating later this year.\n",
      "\n",
      "6. Tata Communications likely to continue with over $200 million capex in FY26\n",
      "   Summary: Tata Communications is expected to invest over USD 200 million in FY26, aligning with its consistent annual investments of USD 200-300 million. Key investments include subsea cables and cloud services, with the newly launched Vayu solution offering significant cost savings. The company emphasizes integrated offerings to enhance efficiency and accelerate AI adoption through Nvidia GPUs.\n",
      "\n",
      "7. Nvidia CEO: Humanoid robot revolution is closer than you think\n",
      "   Summary: The manufacturing industry would likely adopt humanoid robots first because that industry has well-defined tasks that robots can handle in a controlled environment, Nvidia CEO Jensen Huang said. \"I think it ought to go to factories first. And the reason for that is because the domain is much more guard-railed, and the use case is much more specific,\" Huang said.\n",
      "\n",
      "8. Nvidia to invest billions in US chip production over four years: Report\n",
      "   Summary: The artificial intelligence chip giant expects to spend around half-a-trillion dollars on electronics during the four-year period, according to the report.\n",
      "\n",
      "9. Wipro shares surge 3% after launch of Agentic AI services to boost sovereignty and innovation\n",
      "   Summary: Wipro share price: Wipro's shares rose by 3% after launching Agentic AI services to help nations develop AI capabilities while retaining data sovereignty. Utilizing NVIDIA AI Enterprise software, the services will support public sector transformation with custom large language models and responsible AI accelerators.\n",
      "\n",
      "10. Nvidia CEO says company has not been asked to buy a stake in Intel\n",
      "   Summary: \"Nobody's invited us to a consortium,\" Huang said. \"Nobody invited me. Maybe other people are involved, but I don't know. There might be a party. I wasn't invited.\" As per media report earlier this month reported that TSMC had approached Nvidia, Broadcom and Advanced Micro Devices about taking stakes in a joint venture that would operate Intel's factories.\n",
      "\n",
      "11. U.S. stock market today: Markets rise – Nasdaq, Dow Jones, S&P 500 gain as Tesla, Nvidia climb; Fed decision looms, Bond yields steady – Here's what investors should watch?\n",
      "   Summary: U.S. stock market rose as investors awaited the Federal Reserve’s interest rate decision. The S&P 500 gained 0.7%, the Dow Jones climbed 236 points, and the Nasdaq Composite advanced 1%. The Fed is expected to maintain current rates but may hint at future cuts. Investors are also watching economic projections, inflation trends, and global trade tensions. Meanwhile, Tesla and Nvidia stocks saw gains, while General Mills struggled. The bond market reacted with slight movement in yields. Market volatility remains high as traders anticipate policy shifts and economic indicators.\n",
      "\n",
      "12. Nvidia join hands with Disney Research, Google DeepMind to create physics engine, Newton\n",
      "   Summary: Newton is designed to simulate robotic movements in real-world environments. An early, open-source version of Newton is planned for release later in 2025.\n",
      "\n",
      "13. Wipro, Tech Mahindra, L&T Tech Services partner with Nvidia\n",
      "   Summary: Tech Mahindra has unveiled an autonomous pharmacovigilance (PV) solution powered by Nvidia AI software to enhance drug safety management.\n",
      "\n",
      "14. Humanoid robots to roam around in five years - Nvidia CEO Jensen Huang signals AI revolution\n",
      "   Summary: Nvidia CEO Jensen Huang unveiled software tools that he said would help humanoid robots navigate the world more easily.\n",
      "\n",
      "15. Google, Nvidia partner to apply AI in robotics, drug discovery and energy grids\n",
      "   Summary: Google Cloud will also be among the first to adopt Nvidia’s GB300 NVL72 and RTX PRO 6000 Blackwell Server Edition GPUs. Additionally, Nvidia will adopt SynthID, a digital watermarking tool from Google DeepMind that embeds invisible markers in AI-generated images, audio, text and video. Nvidia will be the first industry partner to implement the tool.\n",
      "\n",
      "16. Nvidia CEO says power-saving optical chip tech will need to wait for wider use\n",
      "   Summary: During a keynote address to Nvidia's annual developer conference at a packed hockey stadium in San Jose, California on Tuesday, Huang said his company would use the co-packaged optical technology in two new networking chips that sit in switches on top of its servers, saying the technology would make the chips three and a half times more energy efficient than their predecessors.\n",
      "\n",
      "17. Nvidia showcases new tech at AI 'Super Bowl'\n",
      "   Summary: Jensen Huang used the annual speech to unveil developments and tie-ups at the company he co-founded more than three decades ago. Nvidia has seen stratospheric growth, with the AI frenzy stemming largely from the company's core product: graphics processing units (GPUs).\n",
      "\n",
      "18. Nvidia GTC: Stock over 2% down amid General Motors partnership, new AI chip announcements\n",
      "   Summary: Nvidia CEO Jensen Huang announced the company’s latest AI innovations and upcoming chip developments during his keynote address at the GTC. The company is set to partner with General Motors for self-driving technology. However, shares of the company fell over 2 per cent post the address.\n",
      "\n",
      "19. US stock market today: Market sinks – Nasdaq, Dow Jones, S&P 500 tumble as Nvidia slides, Fed decision nears, Treasury yields surge – What’s next for investors?\n",
      "   Summary: US stock market fell on Tuesday as the Nasdaq dropped 1.9%, dragged down by tech giants like Nvidia and Tesla. The S&P 500 shed 1.2%, nearing correction territory, while the Dow lost 299 points. Investors are eyeing the Federal Reserve’s policy meeting for rate decisions. Meanwhile, rising Treasury yields, geopolitical tensions, and Nvidia’s AI conference added to market uncertainty.\n",
      "\n",
      "20. Nvidia coming up with latest AI chip? Here's what to expect from CEO Jensen Huang\n",
      "   Summary: Nvidia's data center chips, which sell for tens of thousands of dollars each, that accounted for the bulk of its $130.5 billion in sales last year.\n",
      "\n",
      "21. Google may collaborate with MediaTek on its upcoming AI chip. What we know so far\n",
      "   Summary: Google is partnering with MediaTek to develop cost-effective AI chips, aiming for a release next year. Meanwhile, Google is also in discussions with Apple to introduce Rich Communication Services messaging in India, potentially revolutionizing business communications beyond traditional SMS while leveraging existing telecommunication partnerships.\n",
      "\n",
      "22. Quantum computing, AI stocks rise as Nvidia kicks off annual conference\n",
      "   Summary: The five-day GTC AI conference, which was already underway, will devote an entire day to quantum computing and feature executives from notable firms including D-Wave Quantum and Rigetti Computing. Several quantum computing stocks jumped, with D-Wave Quantum up 9.4%, while Quantum Corp and Quantum Computing gained 23.1%, and 15.5%, respectively.\n",
      "\n",
      "23. Nvidia showcases AI chips as it shrugs off DeepSeek\n",
      "   Summary: The AI boom propelled Nvidia stock prices to stratospheric levels until a steep sell-off early this year triggered by the sudden success of DeepSeek.The stock, one of the most traded on Wall Street, is down more than nine percent this year despite a recent rebound from a March low.\n",
      "\n",
      "24. Nvidia poised to shake up AI again with new chip unveiling at GTC by Jensen Huang; here’s what to expect from the tech giant’s game-changing innovations\n",
      "   Summary: Nvidia GTC 2025 is set to unveil game-changing innovations in AI, quantum computing, and robotics. The highlight of the event is the Blackwell Ultra GB300 AI chip, designed to revolutionize AI reasoning models. Nvidia is also hosting its first Quantum Day, featuring discussions from D-Wave and Rigetti. The company’s advancements in autonomous AI and robotics are expected to reshape industries. With over 80 AI training sessions and free certifications, the conference is a must-attend for tech professionals. Analysts predict Nvidia’s announcements could drive long-term stock growth, making GTC 2025 a pivotal moment for the AI industry.\n",
      "\n",
      "25. Intel's new CEO plots overhaul of manufacturing and AI operations\n",
      "   Summary: The new plan involves changing the company's approach to AI and reducing staff to address what incoming CEO Lip-Bu Tan sees as a slow and oversized middle management. One of his main priorities is to improve the company's manufacturing operations, which, once focused solely on making chips for Intel, are now being used to produce semiconductors for other clients like Nvidia.\n",
      "\n",
      "26. Samsung needs 'do-or-die' mindset to survive AI challenges: Report\n",
      "   Summary: The world's largest memory-chip maker already acknowledged in October that it was facing a \"crisis\", and admitted questions had arisen about its \"fundamental technological competitiveness and the future of the company\". \"Samsung is facing a do-or-die survival issue. We need to reflect deeply from the top,\" chairman Lee Jae-yong was quoted as saying during a training for top executives, Yonhap reported.\n",
      "\n",
      "27. Massive market bloodbath: U.S. stock market sheds a staggering $5 trillion in just 3 weeks amid mounting uncertainty, here's what's fueling the Wall Street wipeout\n",
      "   Summary: U.S. stock market is facing a severe downturn, shedding $5 trillion in just three weeks as uncertainty grips Wall Street. The S&P 500 has plunged 10% from its peak, with losses fueled by trade war tensions, slowing economic growth, and a sharp decline in AI-related stocks like Nvidia. Analysts warn that erratic policies and a shift in investor sentiment are accelerating the selloff. With the market still trading at historically high valuations, concerns about a deeper correction remain. Investors are now closely watching economic indicators and corporate earnings for signs of stability.\n",
      "\n",
      "28. Nvidia GTC 2025: Date, venue, place, and how to watch keynote speech of CEO Jensen Huang; will there be big bang announcements?\n",
      "   Summary: The awaited Nvidia GTC 2025 is round the corner and it is now time to watch the keynote address of CEO Jensen Huang that promises to bring in further announcements about the world of AI. Will DeepSeek have an impact on his speech at all?\n",
      "\n",
      "29. US stock market today crashes but Elon Musk's Tesla, Nvidia share prices soar. Here's why\n",
      "   Summary: US stock market indexes -- S&P 500, Dow Jones, and Nasdaq composite -- today were witnessing flat trading. The only silver lining is the uptick in stock prices of Tesla and Nvidia.\n",
      "\n"
     ]
    }
   ],
   "source": [
    "# Example Usage\n",
    "topic = \"nvidia\"\n",
    "news_articles = scrape_economic_times(topic)\n",
    "\n",
    "# Print Results\n",
    "for idx, article in enumerate(news_articles, 1):\n",
    "    print(f\"{idx}. {article['title']}\\n   Summary: {article['summary']}\\n\")"
   ]
  },
  {
   "cell_type": "markdown",
   "metadata": {},
   "source": [
    "## Sentiment analysis"
   ]
  },
  {
   "cell_type": "code",
   "execution_count": 49,
   "metadata": {},
   "outputs": [],
   "source": [
    "from transformers import pipeline"
   ]
  },
  {
   "cell_type": "code",
   "execution_count": 50,
   "metadata": {},
   "outputs": [],
   "source": [
    "sentiment_pipeline = pipeline(\"sentiment-analysis\", model=\"distilbert-base-uncased-finetuned-sst-2-english\")"
   ]
  },
  {
   "cell_type": "code",
   "execution_count": 51,
   "metadata": {},
   "outputs": [
    {
     "data": {
      "text/plain": [
       "[{'title': 'Nvidia is silently making game changing moves. What will be impact?',\n",
       "  'summary': 'Nvidia is planning to invest hundreds of billions of dollars in U.S.-made chips and electronics over the next four years.'},\n",
       " {'title': \"'They have conquered every market': Nvidia CEO on why Trump is wrong about Huawei\",\n",
       "  'summary': \"Nvidia CEO Jensen Huang warns that the U.S. may be underestimating Huawei's growing influence in AI, despite sanctions restricting the company's access to American technology. He criticizes these measures as poorly executed. Meanwhile, Huang denies Nvidia's involvement in any potential Intel stake acquisition consortium, dismissing speculation about their participation.\"},\n",
       " {'title': 'Why Indian IT must shift from Nvidia to Intel? Trip Chowdhry explains',\n",
       "  'summary': 'The way I am saying, the tone of the industry has to be set when you know the environment is all about efficiency and tariffs and everything is just noise.'},\n",
       " {'title': 'Nvidia-backed CoreWeave targets up to $32 billion valuation in test for AI IPOs',\n",
       "  'summary': \"Meanwhile, ahead of the IPO, CoreWeave had tied up with some of the biggest AI heavyweights, including Sam Altman's OpenAI. Last week, the company signed an $11.9 billion infrastructure contract with the ChatGPT maker. Nvidia currently owns 5.96% of CoreWeave's Class A shares, which is expected to be reduced to 5.05% after the offering.\"},\n",
       " {'title': 'Nvidia to open quantum computing lab, CEO says',\n",
       "  'summary': 'The Nvidia Accelerated Quantum Research Center, which Nvidia is calling NVAQC for short, will work with quantum firms including Quantinuum, Quantum Machines and QuEra Computing. Nvidia said the center will begin operating later this year.'},\n",
       " {'title': 'Tata Communications likely to continue with over $200 million capex in FY26',\n",
       "  'summary': 'Tata Communications is expected to invest over USD 200 million in FY26, aligning with its consistent annual investments of USD 200-300 million. Key investments include subsea cables and cloud services, with the newly launched Vayu solution offering significant cost savings. The company emphasizes integrated offerings to enhance efficiency and accelerate AI adoption through Nvidia GPUs.'},\n",
       " {'title': 'Nvidia CEO: Humanoid robot revolution is closer than you think',\n",
       "  'summary': 'The manufacturing industry would likely adopt humanoid robots first because that industry has well-defined tasks that robots can handle in a controlled environment, Nvidia CEO Jensen Huang said. \"I think it ought to go to factories first. And the reason for that is because the domain is much more guard-railed, and the use case is much more specific,\" Huang said.'},\n",
       " {'title': 'Nvidia to invest billions in US chip production over four years: Report',\n",
       "  'summary': 'The artificial intelligence chip giant expects to spend around half-a-trillion dollars on electronics during the four-year period, according to the report.'},\n",
       " {'title': 'Wipro shares surge 3% after launch of Agentic AI services to boost sovereignty and innovation',\n",
       "  'summary': \"Wipro share price: Wipro's shares rose by 3% after launching Agentic AI services to help nations develop AI capabilities while retaining data sovereignty. Utilizing NVIDIA AI Enterprise software, the services will support public sector transformation with custom large language models and responsible AI accelerators.\"},\n",
       " {'title': 'Nvidia CEO says company has not been asked to buy a stake in Intel',\n",
       "  'summary': '\"Nobody\\'s invited us to a consortium,\" Huang said. \"Nobody invited me. Maybe other people are involved, but I don\\'t know. There might be a party. I wasn\\'t invited.\" As per media report earlier this month reported that TSMC had approached Nvidia, Broadcom and Advanced Micro Devices about taking stakes in a joint venture that would operate Intel\\'s factories.'},\n",
       " {'title': \"U.S. stock market today: Markets rise – Nasdaq, Dow Jones, S&P 500 gain as Tesla, Nvidia climb; Fed decision looms, Bond yields steady – Here's what investors should watch?\",\n",
       "  'summary': 'U.S. stock market rose as investors awaited the Federal Reserve’s interest rate decision. The S&P 500 gained 0.7%, the Dow Jones climbed 236 points, and the Nasdaq Composite advanced 1%. The Fed is expected to maintain current rates but may hint at future cuts. Investors are also watching economic projections, inflation trends, and global trade tensions. Meanwhile, Tesla and Nvidia stocks saw gains, while General Mills struggled. The bond market reacted with slight movement in yields. Market volatility remains high as traders anticipate policy shifts and economic indicators.'},\n",
       " {'title': 'Nvidia join hands with Disney Research, Google DeepMind to create physics engine, Newton',\n",
       "  'summary': 'Newton is designed to simulate robotic movements in real-world environments. An early, open-source version of Newton is planned for release later in 2025.'},\n",
       " {'title': 'Wipro, Tech Mahindra, L&T Tech Services partner with Nvidia',\n",
       "  'summary': 'Tech Mahindra has unveiled an autonomous pharmacovigilance (PV) solution powered by Nvidia AI software to enhance drug safety management.'},\n",
       " {'title': 'Humanoid robots to roam around in five years - Nvidia CEO Jensen Huang signals AI revolution',\n",
       "  'summary': 'Nvidia CEO Jensen Huang unveiled software tools that he said would help humanoid robots navigate the world more easily.'},\n",
       " {'title': 'Google, Nvidia partner to apply AI in robotics, drug discovery and energy grids',\n",
       "  'summary': 'Google Cloud will also be among the first to adopt Nvidia’s GB300 NVL72 and RTX PRO 6000 Blackwell Server Edition GPUs. Additionally, Nvidia will adopt SynthID, a digital watermarking tool from Google DeepMind that embeds invisible markers in AI-generated images, audio, text and video. Nvidia will be the first industry partner to implement the tool.'},\n",
       " {'title': 'Nvidia CEO says power-saving optical chip tech will need to wait for wider use',\n",
       "  'summary': \"During a keynote address to Nvidia's annual developer conference at a packed hockey stadium in San Jose, California on Tuesday, Huang said his company would use the co-packaged optical technology in two new networking chips that sit in switches on top of its servers, saying the technology would make the chips three and a half times more energy efficient than their predecessors.\"},\n",
       " {'title': \"Nvidia showcases new tech at AI 'Super Bowl'\",\n",
       "  'summary': \"Jensen Huang used the annual speech to unveil developments and tie-ups at the company he co-founded more than three decades ago. Nvidia has seen stratospheric growth, with the AI frenzy stemming largely from the company's core product: graphics processing units (GPUs).\"},\n",
       " {'title': 'Nvidia GTC: Stock over 2% down amid General Motors partnership, new AI chip announcements',\n",
       "  'summary': 'Nvidia CEO Jensen Huang announced the company’s latest AI innovations and upcoming chip developments during his keynote address at the GTC. The company is set to partner with General Motors for self-driving technology. However, shares of the company fell over 2 per cent post the address.'},\n",
       " {'title': 'US stock market today: Market sinks – Nasdaq, Dow Jones, S&P 500 tumble as Nvidia slides, Fed decision nears, Treasury yields surge – What’s next for investors?',\n",
       "  'summary': 'US stock market fell on Tuesday as the Nasdaq dropped 1.9%, dragged down by tech giants like Nvidia and Tesla. The S&P 500 shed 1.2%, nearing correction territory, while the Dow lost 299 points. Investors are eyeing the Federal Reserve’s policy meeting for rate decisions. Meanwhile, rising Treasury yields, geopolitical tensions, and Nvidia’s AI conference added to market uncertainty.'},\n",
       " {'title': \"Nvidia coming up with latest AI chip? Here's what to expect from CEO Jensen Huang\",\n",
       "  'summary': \"Nvidia's data center chips, which sell for tens of thousands of dollars each, that accounted for the bulk of its $130.5 billion in sales last year.\"},\n",
       " {'title': 'Google may collaborate with MediaTek on its upcoming AI chip. What we know so far',\n",
       "  'summary': 'Google is partnering with MediaTek to develop cost-effective AI chips, aiming for a release next year. Meanwhile, Google is also in discussions with Apple to introduce Rich Communication Services messaging in India, potentially revolutionizing business communications beyond traditional SMS while leveraging existing telecommunication partnerships.'},\n",
       " {'title': 'Quantum computing, AI stocks rise as Nvidia kicks off annual conference',\n",
       "  'summary': 'The five-day GTC AI conference, which was already underway, will devote an entire day to quantum computing and feature executives from notable firms including D-Wave Quantum and Rigetti Computing. Several quantum computing stocks jumped, with D-Wave Quantum up 9.4%, while Quantum Corp and Quantum Computing gained 23.1%, and 15.5%, respectively.'},\n",
       " {'title': 'Nvidia showcases AI chips as it shrugs off DeepSeek',\n",
       "  'summary': 'The AI boom propelled Nvidia stock prices to stratospheric levels until a steep sell-off early this year triggered by the sudden success of DeepSeek.The stock, one of the most traded on Wall Street, is down more than nine percent this year despite a recent rebound from a March low.'},\n",
       " {'title': 'Nvidia poised to shake up AI again with new chip unveiling at GTC by Jensen Huang; here’s what to expect from the tech giant’s game-changing innovations',\n",
       "  'summary': 'Nvidia GTC 2025 is set to unveil game-changing innovations in AI, quantum computing, and robotics. The highlight of the event is the Blackwell Ultra GB300 AI chip, designed to revolutionize AI reasoning models. Nvidia is also hosting its first Quantum Day, featuring discussions from D-Wave and Rigetti. The company’s advancements in autonomous AI and robotics are expected to reshape industries. With over 80 AI training sessions and free certifications, the conference is a must-attend for tech professionals. Analysts predict Nvidia’s announcements could drive long-term stock growth, making GTC 2025 a pivotal moment for the AI industry.'},\n",
       " {'title': \"Intel's new CEO plots overhaul of manufacturing and AI operations\",\n",
       "  'summary': \"The new plan involves changing the company's approach to AI and reducing staff to address what incoming CEO Lip-Bu Tan sees as a slow and oversized middle management. One of his main priorities is to improve the company's manufacturing operations, which, once focused solely on making chips for Intel, are now being used to produce semiconductors for other clients like Nvidia.\"},\n",
       " {'title': \"Samsung needs 'do-or-die' mindset to survive AI challenges: Report\",\n",
       "  'summary': 'The world\\'s largest memory-chip maker already acknowledged in October that it was facing a \"crisis\", and admitted questions had arisen about its \"fundamental technological competitiveness and the future of the company\". \"Samsung is facing a do-or-die survival issue. We need to reflect deeply from the top,\" chairman Lee Jae-yong was quoted as saying during a training for top executives, Yonhap reported.'},\n",
       " {'title': \"Massive market bloodbath: U.S. stock market sheds a staggering $5 trillion in just 3 weeks amid mounting uncertainty, here's what's fueling the Wall Street wipeout\",\n",
       "  'summary': 'U.S. stock market is facing a severe downturn, shedding $5 trillion in just three weeks as uncertainty grips Wall Street. The S&P 500 has plunged 10% from its peak, with losses fueled by trade war tensions, slowing economic growth, and a sharp decline in AI-related stocks like Nvidia. Analysts warn that erratic policies and a shift in investor sentiment are accelerating the selloff. With the market still trading at historically high valuations, concerns about a deeper correction remain. Investors are now closely watching economic indicators and corporate earnings for signs of stability.'},\n",
       " {'title': 'Nvidia GTC 2025: Date, venue, place, and how to watch keynote speech of CEO Jensen Huang; will there be big bang announcements?',\n",
       "  'summary': 'The awaited Nvidia GTC 2025 is round the corner and it is now time to watch the keynote address of CEO Jensen Huang that promises to bring in further announcements about the world of AI. Will DeepSeek have an impact on his speech at all?'},\n",
       " {'title': \"US stock market today crashes but Elon Musk's Tesla, Nvidia share prices soar. Here's why\",\n",
       "  'summary': 'US stock market indexes -- S&P 500, Dow Jones, and Nasdaq composite -- today were witnessing flat trading. The only silver lining is the uptick in stock prices of Tesla and Nvidia.'}]"
      ]
     },
     "execution_count": 51,
     "metadata": {},
     "output_type": "execute_result"
    }
   ],
   "source": [
    "news_articles"
   ]
  },
  {
   "cell_type": "code",
   "execution_count": 55,
   "metadata": {},
   "outputs": [
    {
     "name": "stdout",
     "output_type": "stream",
     "text": [
      "[{'label': 'NEGATIVE', 'score': 0.9782043695449829}]\n"
     ]
    }
   ],
   "source": [
    "result = sentiment_pipeline(news_articles[0]['summary'])  # Process text through the model\n",
    "print(result)"
   ]
  },
  {
   "cell_type": "markdown",
   "metadata": {},
   "source": [
    "## Keywords Extraction"
   ]
  },
  {
   "cell_type": "code",
   "execution_count": 56,
   "metadata": {},
   "outputs": [],
   "source": [
    "from keybert import KeyBERT"
   ]
  },
  {
   "cell_type": "code",
   "execution_count": 57,
   "metadata": {},
   "outputs": [],
   "source": [
    "kw_model = KeyBERT(\"distilbert-base-nli-mean-tokens\")"
   ]
  },
  {
   "cell_type": "code",
   "execution_count": 58,
   "metadata": {},
   "outputs": [
    {
     "data": {
      "text/plain": [
       "[('billions dollars', 0.4692),\n",
       " ('hundreds billions', 0.459),\n",
       " ('invest hundreds', 0.436)]"
      ]
     },
     "execution_count": 58,
     "metadata": {},
     "output_type": "execute_result"
    }
   ],
   "source": [
    "keywords = kw_model.extract_keywords(news_articles[0]['summary'], keyphrase_ngram_range=(1, 2), top_n=3)\n",
    "keywords"
   ]
  },
  {
   "cell_type": "markdown",
   "metadata": {},
   "source": [
    "## Hindi Speech Generation"
   ]
  },
  {
   "cell_type": "code",
   "execution_count": 60,
   "metadata": {},
   "outputs": [],
   "source": [
    "import io\n",
    "from gtts import gTTS\n",
    "from IPython.display import Audio\n",
    "from deep_translator import GoogleTranslator"
   ]
  },
  {
   "cell_type": "code",
   "execution_count": 61,
   "metadata": {},
   "outputs": [],
   "source": [
    "def generate_hindi_speech(text):\n",
    "    \"\"\"Convert text to Hindi speech and store in memory.\"\"\"\n",
    "    # Translate text to Hindi\n",
    "    hindi_text = GoogleTranslator(source=\"auto\", target=\"hi\").translate(text)\n",
    "\n",
    "    # Convert translated text to speech\n",
    "    tts = gTTS(hindi_text, lang=\"hi\")\n",
    "\n",
    "    # Store the generated speech in memory\n",
    "    audio_buffer = io.BytesIO()\n",
    "    tts.write_to_fp(audio_buffer)\n",
    "    audio_buffer.seek(0)  # Reset buffer position for playback\n",
    "\n",
    "    return audio_buffer"
   ]
  },
  {
   "cell_type": "code",
   "execution_count": 62,
   "metadata": {},
   "outputs": [
    {
     "data": {
      "text/html": [
       "\n",
       "                <audio  controls=\"controls\" >\n",
       "                    <source src=\"data:audio/wav;base64,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\" type=\"audio/wav\" />\n",
       "                    Your browser does not support the audio element.\n",
       "                </audio>\n",
       "              "
      ],
      "text/plain": [
       "<IPython.lib.display.Audio object>"
      ]
     },
     "execution_count": 62,
     "metadata": {},
     "output_type": "execute_result"
    }
   ],
   "source": [
    "# Generate and play audio\n",
    "text = \"I am a hindi translator\"\n",
    "audio_buffer = generate_hindi_speech(text)\n",
    "\n",
    "# Play the generated audio\n",
    "Audio(audio_buffer.getvalue(), rate=24000)  # Use IPython's Audio function"
   ]
  },
  {
   "cell_type": "code",
   "execution_count": 59,
   "metadata": {},
   "outputs": [
    {
     "name": "stdout",
     "output_type": "stream",
     "text": [
      "Numpy Version: 1.23.5\n",
      "Python Version: 3.10.0 | packaged by conda-forge | (default, Nov 20 2021, 02:18:13) [MSC v.1916 64 bit (AMD64)]\n",
      "Torch Version: 2.0.1+cpu\n",
      "Transformer Version: 4.35.2\n"
     ]
    }
   ],
   "source": [
    "## Version compatibility\n",
    "import numpy\n",
    "import sys\n",
    "import torch\n",
    "import transformers\n",
    "print(\"Numpy Version:\", numpy.__version__)  \n",
    "print(\"Python Version:\", sys.version)\n",
    "print(\"Torch Version:\", torch.__version__)  \n",
    "print(\"Transformer Version:\", transformers.__version__)\n"
   ]
  }
 ],
 "metadata": {
  "kernelspec": {
   "display_name": "Python 3",
   "language": "python",
   "name": "python3"
  },
  "language_info": {
   "codemirror_mode": {
    "name": "ipython",
    "version": 3
   },
   "file_extension": ".py",
   "mimetype": "text/x-python",
   "name": "python",
   "nbconvert_exporter": "python",
   "pygments_lexer": "ipython3",
   "version": "3.10.0"
  }
 },
 "nbformat": 4,
 "nbformat_minor": 2
}
